{
 "cells": [
  {
   "cell_type": "code",
   "execution_count": 32,
   "id": "504c7b6e",
   "metadata": {},
   "outputs": [],
   "source": [
    "import tensorflow as tf\n",
    "\n",
    "from tensorflow.keras.models import Sequential\n",
    "from tensorflow.keras.layers import Conv2D, MaxPooling2D, Dense, Flatten, Dropout, LSTM\n",
    "from tensorflow.keras.utils import normalize\n",
    "from sklearn.model_selection import train_test_split"
   ]
  },
  {
   "cell_type": "code",
   "execution_count": 33,
   "id": "af1968b5",
   "metadata": {},
   "outputs": [],
   "source": [
    "from keras.datasets import mnist\n",
    "(train_x, train_y), (test_x, test_y) = mnist.load_data()"
   ]
  },
  {
   "cell_type": "code",
   "execution_count": 34,
   "id": "707dd820",
   "metadata": {},
   "outputs": [
    {
     "name": "stdout",
     "output_type": "stream",
     "text": [
      "The shape of train_x set is: (60000, 28, 28, 1)\n",
      "The shape of train_y set is: (60000,)\n"
     ]
    }
   ],
   "source": [
    "train_x = train_x.astype('float32')\n",
    "test_x = test_x.astype('float32')\n",
    "train_x /= 255\n",
    "test_x /= 255\n",
    "train_x = train_x.reshape(train_x.shape[0], 28, 28, 1)\n",
    "test_x = test_x.reshape(test_x.shape)\n",
    "# train set\n",
    "print(\"The shape of train_x set is:\",train_x.shape)\n",
    "print(\"The shape of train_y set is:\",train_y.shape)"
   ]
  },
  {
   "cell_type": "code",
   "execution_count": 35,
   "id": "8eac655e",
   "metadata": {},
   "outputs": [],
   "source": [
    "from keras.datasets import mnist\n",
    "(train_x, train_y), (test_x, test_y) = mnist.load_data()"
   ]
  },
  {
   "cell_type": "code",
   "execution_count": 36,
   "id": "b342834b",
   "metadata": {},
   "outputs": [
    {
     "name": "stdout",
     "output_type": "stream",
     "text": [
      "The shape of train_x set is: (60000, 28, 28, 1)\n",
      "The shape of train_y set is: (60000,)\n"
     ]
    }
   ],
   "source": [
    "train_x = train_x.astype('float32')\n",
    "test_x = test_x.astype('float32')\n",
    "train_x /= 255\n",
    "test_x /= 255\n",
    "train_x = train_x.reshape(train_x.shape[0], 28, 28, 1)\n",
    "test_x = test_x.reshape(test_x.shape)\n",
    "# train set\n",
    "print(\"The shape of train_x set is:\",train_x.shape)\n",
    "print(\"The shape of train_y set is:\",train_y.shape)"
   ]
  },
  {
   "cell_type": "code",
   "execution_count": 37,
   "id": "0436a7ee",
   "metadata": {},
   "outputs": [
    {
     "name": "stdout",
     "output_type": "stream",
     "text": [
      "The shape of test_x set is: (10000, 28, 28)\n",
      "The shape of test_y set is: (10000,)\n"
     ]
    }
   ],
   "source": [
    "# test set\n",
    "print(\"The shape of test_x set is:\",test_x.shape)\n",
    "print(\"The shape of test_y set is:\",test_y.shape)"
   ]
  },
  {
   "cell_type": "markdown",
   "id": "82bfe1d4",
   "metadata": {},
   "source": [
    "# Loading data for DNN and RNN (LSTM)"
   ]
  },
  {
   "cell_type": "code",
   "execution_count": 38,
   "id": "928a521c",
   "metadata": {},
   "outputs": [],
   "source": [
    "def load_data_NN():\n",
    "  # load mnist dataset\n",
    "  mnist = tf.keras.datasets.mnist  # 28 x 28 images of 0-9\n",
    "  (x_train, y_train), (x_test, y_test) = mnist.load_data()\n",
    "  # normalize data\n",
    "  X_train = normalize(x_train, axis = 1)\n",
    "  x_test = normalize(x_test, axis = 1)\n",
    "  return x_train, y_train, x_test, y_test"
   ]
  },
  {
   "cell_type": "markdown",
   "id": "16e4af44",
   "metadata": {},
   "source": [
    "# Loading data for CNN"
   ]
  },
  {
   "cell_type": "code",
   "execution_count": 39,
   "id": "22b3d6aa",
   "metadata": {},
   "outputs": [],
   "source": [
    "def load_data_CNN():\n",
    "  # load mnist dataset\n",
    "  mnist1 = tf.keras.datasets.mnist  # 28 x 28 images of 0-9\n",
    "  (x_train, y_train), (x_test, y_test) = mnist1.load_data()\n",
    "  # reshape data\n",
    "  x_train = x_train.reshape(x_train.shape[0], 28, 28, 1)\n",
    "  x_test = x_test.reshape(x_test.shape[0], 28, 28, 1)\n",
    "  # convert from integers to floats\n",
    "  x_train = x_train.astype('float32')\n",
    "  x_test = x_test.astype('float32')\n",
    "  # normalize data\n",
    "  x_train = normalize(x_train, axis = 1)\n",
    "  x_test = normalize(x_test, axis = 1)\n",
    "  return x_train, y_train, x_test, y_test"
   ]
  },
  {
   "cell_type": "markdown",
   "id": "02773149",
   "metadata": {},
   "source": [
    "# Define Model 1 – DNN (Deep Neural Network)"
   ]
  },
  {
   "cell_type": "code",
   "execution_count": 40,
   "id": "3e85f84a",
   "metadata": {},
   "outputs": [],
   "source": [
    "def DNN():\n",
    "  model_dnn = Sequential()\n",
    "  model_dnn.add(Flatten())  # input layer\n",
    "  model_dnn.add(Dense(128, activation = 'relu'))\n",
    "  model_dnn.add(Dense(128, activation = 'relu'))\n",
    "  model_dnn.add(Dense(10, activation = 'softmax'))\n",
    "  model_dnn.compile(optimizer= \"adam\", \n",
    "                  loss= \"sparse_categorical_crossentropy\", metrics=[\"accuracy\"])\n",
    "  return model_dnn"
   ]
  },
  {
   "cell_type": "markdown",
   "id": "40bc29e8",
   "metadata": {},
   "source": [
    "# Define Model 2 – RNN (LSTM)"
   ]
  },
  {
   "cell_type": "code",
   "execution_count": 41,
   "id": "f0d87fb5",
   "metadata": {},
   "outputs": [],
   "source": [
    "def RNN(input_shape):\n",
    "  model_rnn = Sequential()\n",
    "  model_rnn.add(LSTM(128, input_shape=input_shape, activation = 'relu', return_sequences=True))\n",
    "  model_rnn.add(Dropout(0.2))\n",
    "  model_rnn.add(LSTM(128, input_shape=input_shape, activation = 'relu'))\n",
    "  model_rnn.add(Dropout(0.2))\n",
    "  model_rnn.add(Dense(32, activation = 'relu'))\n",
    "  model_rnn.add(Dropout(0.2))\n",
    "  model_rnn.add(Dense(10, activation = 'softmax'))\n",
    "  model_rnn.compile(optimizer= \"adam\", \n",
    "                  loss= \"sparse_categorical_crossentropy\", metrics=[\"accuracy\"])\n",
    "  return model_rnn\n"
   ]
  },
  {
   "cell_type": "markdown",
   "id": "19b7c08e",
   "metadata": {},
   "source": [
    "# Define Model 3 – CNN (Convolution Neural Network)"
   ]
  },
  {
   "cell_type": "code",
   "execution_count": 42,
   "id": "a39ad7a8",
   "metadata": {},
   "outputs": [],
   "source": [
    "def CNN(input_shape):\n",
    "  model_cnn = Sequential()\n",
    "  model_cnn.add(Conv2D(32, (3,3),  input_shape = input_shape))\n",
    "  model_cnn.add(MaxPooling2D(pool_size=(2,2)))\n",
    "  model_cnn.add(Flatten())  # converts 3D feature maps to 3D feature vectors\n",
    "  model_cnn.add(Dense(100, activation='relu'))\n",
    "  model_cnn.add(Dense(10, activation='softmax'))\n",
    "  model_cnn.compile(loss=\"sparse_categorical_crossentropy\",\n",
    "                 optimizer=\"adam\", metrics=[\"accuracy\"])\n",
    "  return model_cnn"
   ]
  },
  {
   "cell_type": "markdown",
   "id": "daa66aa6",
   "metadata": {},
   "source": [
    "# Prediction Phase"
   ]
  },
  {
   "cell_type": "code",
   "execution_count": 43,
   "id": "17c6625d",
   "metadata": {},
   "outputs": [],
   "source": [
    "def sample_prediction(index):\n",
    "  plt.imshow(x_test[index].reshape(28, 28),cmap='Greys')\n",
    "  pred = model.predict(x_test[index].reshape(1, 28, 28, 1))\n",
    "  print(np.argmax(pred))"
   ]
  },
  {
   "cell_type": "markdown",
   "id": "f6700071",
   "metadata": {},
   "source": [
    "# DNN Model Prediction"
   ]
  },
  {
   "cell_type": "code",
   "execution_count": 46,
   "id": "b66d6bdb",
   "metadata": {},
   "outputs": [
    {
     "name": "stdout",
     "output_type": "stream",
     "text": [
      "nnModel Trainingn\n",
      "Epoch 1/5\n",
      "1875/1875 [==============================] - 9s 4ms/step - loss: 1.6803 - accuracy: 0.8736\n",
      "Epoch 2/5\n",
      "1875/1875 [==============================] - 6s 3ms/step - loss: 0.3738 - accuracy: 0.9214\n",
      "Epoch 3/5\n",
      "1875/1875 [==============================] - 5s 2ms/step - loss: 0.2454 - accuracy: 0.9401\n",
      "Epoch 4/5\n",
      "1875/1875 [==============================] - 4s 2ms/step - loss: 0.1816 - accuracy: 0.9515\n",
      "Epoch 5/5\n",
      "1875/1875 [==============================] - 4s 2ms/step - loss: 0.1522 - accuracy: 0.9585\n",
      "nnModel Evaluationn\n",
      "313/313 [==============================] - 1s 3ms/step - loss: 2.3059 - accuracy: 0.0974\n",
      "313/313 [==============================] - 1s 2ms/step - loss: 2.3059 - accuracy: 0.0974\n",
      "nDNN Model Test accuracy: 0.09740000218153\n",
      "nnSample Prediction\n",
      "1/1 [==============================] - 0s 82ms/step\n",
      "8\n"
     ]
    },
    {
     "data": {
      "image/png": "[encoded data removed]",
      "text/plain": [
       "<Figure size 640x480 with 1 Axes>"
      ]
     },
     "metadata": {},
     "output_type": "display_data"
    }
   ],
   "source": [
    "import matplotlib.pyplot as plt\n",
    "import numpy as np\n",
    "if __name__ == \"__main__\":\n",
    "  # load data\n",
    "  x_train, y_train, x_test, y_test = load_data_NN()\n",
    "  # load the model\n",
    "  model = DNN()\n",
    "  print(\"nnModel Trainingn\")\n",
    "  model.fit(x_train, y_train, epochs = 5)\n",
    "  print(\"nnModel Evaluationn\")\n",
    "  model.evaluate(x_test, y_test)\n",
    "  score1 = model.evaluate(x_test, y_test, verbose=1)\n",
    "  print('n''DNN Model Test accuracy:', score1[1])\n",
    "  print(\"nnSample Prediction\")\n",
    "  sample_prediction(20)"
   ]
  },
  {
   "cell_type": "markdown",
   "id": "e52c6f63",
   "metadata": {},
   "source": [
    "# RNN (LSTM) Model Prediction"
   ]
  },
  {
   "cell_type": "code",
   "execution_count": 47,
   "id": "12ef881d",
   "metadata": {},
   "outputs": [
    {
     "name": "stdout",
     "output_type": "stream",
     "text": [
      "nnModel Trainingn\n",
      "Epoch 1/5\n",
      "1875/1875 [==============================] - 91s 47ms/step - loss: 14.7675 - accuracy: 0.1076\n",
      "Epoch 2/5\n",
      "1875/1875 [==============================] - 90s 48ms/step - loss: 2.3604 - accuracy: 0.1122\n",
      "Epoch 3/5\n",
      "1875/1875 [==============================] - 92s 49ms/step - loss: 2.3207 - accuracy: 0.1125\n",
      "Epoch 4/5\n",
      "1875/1875 [==============================] - 95s 51ms/step - loss: 2.3296 - accuracy: 0.1123\n",
      "Epoch 5/5\n",
      "1875/1875 [==============================] - 91s 49ms/step - loss: 2.3025 - accuracy: 0.1124\n",
      "nnModel Evaluationn\n",
      "313/313 [==============================] - 6s 17ms/step - loss: 2.3010 - accuracy: 0.1135\n",
      "313/313 [==============================] - 5s 17ms/step - loss: 2.3010 - accuracy: 0.1135\n",
      "nRNN (LSTM) Model Test accuracy: 0.11349999904632568\n"
     ]
    }
   ],
   "source": [
    "if __name__ == \"__main__\":\n",
    "  # load data\n",
    "  x_train, y_train, x_test, y_test = load_data_NN()\n",
    "  # load model\n",
    "  model = RNN(x_train.shape[1:])\n",
    "  print(\"nnModel Trainingn\")\n",
    "  model.fit(x_train, y_train, epochs = 5)\n",
    "  print(\"nnModel Evaluationn\")\n",
    "  model.evaluate(x_test, y_test)\n",
    "  score2 = model.evaluate(x_test, y_test, verbose=1)\n",
    "  print('n''RNN (LSTM) Model Test accuracy:', score2[1])"
   ]
  },
  {
   "cell_type": "markdown",
   "id": "34e2e57d",
   "metadata": {},
   "source": [
    "# CNN Model Prediction"
   ]
  },
  {
   "cell_type": "code",
   "execution_count": 48,
   "id": "43985af9",
   "metadata": {},
   "outputs": [
    {
     "name": "stdout",
     "output_type": "stream",
     "text": [
      "nnModel Trainingn\n",
      "Epoch 1/5\n",
      "1875/1875 [==============================] - 18s 10ms/step - loss: 0.2262 - accuracy: 0.9322\n",
      "Epoch 2/5\n",
      "1875/1875 [==============================] - 18s 10ms/step - loss: 0.0836 - accuracy: 0.9747\n",
      "Epoch 3/5\n",
      "1875/1875 [==============================] - 19s 10ms/step - loss: 0.0510 - accuracy: 0.9839\n",
      "Epoch 4/5\n",
      "1875/1875 [==============================] - 19s 10ms/step - loss: 0.0347 - accuracy: 0.9894\n",
      "Epoch 5/5\n",
      "1875/1875 [==============================] - 18s 10ms/step - loss: 0.0253 - accuracy: 0.9921\n",
      "nnModel Evaluationn\n",
      "313/313 [==============================] - 2s 4ms/step - loss: 0.0805 - accuracy: 0.9770\n",
      "313/313 [==============================] - 1s 4ms/step - loss: 0.0805 - accuracy: 0.9770\n",
      "nCNN Model Test accuracy: 0.9769999980926514\n",
      "nnSample Prediction\n",
      "1/1 [==============================] - 0s 63ms/step\n",
      "9\n"
     ]
    },
    {
     "data": {
      "image/png": "[encoded data removed]",
      "text/plain": [
       "<Figure size 640x480 with 1 Axes>"
      ]
     },
     "metadata": {},
     "output_type": "display_data"
    }
   ],
   "source": [
    "if __name__ == \"__main__\":\n",
    "  # load data\n",
    "  x_train, y_train, x_test, y_test = load_data_CNN()\n",
    "  # load model\n",
    "  input_shape = (28,28,1)\n",
    "  model = CNN(input_shape)\n",
    "  print(\"nnModel Trainingn\")\n",
    "  model.fit(x_train, y_train, epochs = 5)\n",
    "  print(\"nnModel Evaluationn\")\n",
    "  model.evaluate(x_test, y_test)\n",
    "  score3 = model.evaluate(x_test, y_test, verbose=1)\n",
    "  print('n''CNN Model Test accuracy:', score3[1])\n",
    "  print(\"nnSample Prediction\")\n",
    "  sample_prediction(20)"
   ]
  },
  {
   "cell_type": "markdown",
   "id": "ecdd5b28",
   "metadata": {},
   "source": [
    "# Comparing Model Accuracies"
   ]
  },
  {
   "cell_type": "code",
   "execution_count": 50,
   "id": "a5a4a837",
   "metadata": {},
   "outputs": [
    {
     "data": {
      "text/html": [
       "<div>\n",
       "<style scoped>\n",
       "    .dataframe tbody tr th:only-of-type {\n",
       "        vertical-align: middle;\n",
       "    }\n",
       "\n",
       "    .dataframe tbody tr th {\n",
       "        vertical-align: top;\n",
       "    }\n",
       "\n",
       "    .dataframe thead th {\n",
       "        text-align: right;\n",
       "    }\n",
       "</style>\n",
       "<table border=\"1\" class=\"dataframe\">\n",
       "  <thead>\n",
       "    <tr style=\"text-align: right;\">\n",
       "      <th></th>\n",
       "      <th>Accuracy Score</th>\n",
       "    </tr>\n",
       "    <tr>\n",
       "      <th>Model</th>\n",
       "      <th></th>\n",
       "    </tr>\n",
       "  </thead>\n",
       "  <tbody>\n",
       "    <tr>\n",
       "      <th>CNN</th>\n",
       "      <td>0.9770</td>\n",
       "    </tr>\n",
       "    <tr>\n",
       "      <th>RNN (LSTM)</th>\n",
       "      <td>0.1135</td>\n",
       "    </tr>\n",
       "    <tr>\n",
       "      <th>DNN</th>\n",
       "      <td>0.0974</td>\n",
       "    </tr>\n",
       "  </tbody>\n",
       "</table>\n",
       "</div>"
      ],
      "text/plain": [
       "            Accuracy Score\n",
       "Model                     \n",
       "CNN                 0.9770\n",
       "RNN (LSTM)          0.1135\n",
       "DNN                 0.0974"
      ]
     },
     "execution_count": 50,
     "metadata": {},
     "output_type": "execute_result"
    }
   ],
   "source": [
    "import pandas as pd\n",
    "results=pd.DataFrame({'Model':['DNN','RNN (LSTM)','CNN'],\n",
    "                     'Accuracy Score':[score1[1],score2[1],score3[1]]})\n",
    "result_df=results.sort_values(by='Accuracy Score', ascending=False)\n",
    "result_df=result_df.set_index('Model')\n",
    "result_df"
   ]
  },
  {
   "cell_type": "code",
   "execution_count": null,
   "id": "94e2c5f2",
   "metadata": {},
   "outputs": [],
   "source": []
  }
 ],
 "metadata": {
  "kernelspec": {
   "display_name": "Python 3 (ipykernel)",
   "language": "python",
   "name": "python3"
  },
  "language_info": {
   "codemirror_mode": {
    "name": "ipython",
    "version": 3
   },
   "file_extension": ".py",
   "mimetype": "text/x-python",
   "name": "python",
   "nbconvert_exporter": "python",
   "pygments_lexer": "ipython3",
   "version": "3.9.13"
  }
 },
 "nbformat": 4,
 "nbformat_minor": 5
}
